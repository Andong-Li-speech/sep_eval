{
 "cells": [
  {
   "cell_type": "code",
   "execution_count": null,
   "metadata": {},
   "outputs": [],
   "source": [
    "from sep_eval import pesq\n",
    "import sep_eval\n",
    "import IPython.display as ipd\n",
    "import soundfile as sf\n",
    "import numpy as np"
   ]
  },
  {
   "cell_type": "code",
   "execution_count": null,
   "metadata": {},
   "outputs": [],
   "source": [
    "deg, fs = sf.read('../wavs/degraded.wav')\n",
    "print \"SOUNDFILE\"\n",
    "print \"Fs: {}\".format(fs)\n",
    "print \"File: {}\".format(deg.shape)\n",
    "print \"dtype: {}\".format(deg.dtype)\n",
    "print \"min/max: {}/{}\".format(min(deg), max(deg))\n"
   ]
  },
  {
   "cell_type": "code",
   "execution_count": null,
   "metadata": {},
   "outputs": [],
   "source": [
    "deg, fs = sf.read('../wavs/degraded.wav')\n",
    "ref1, fs = sf.read('../wavs/reference1.wav')\n",
    "enh1, fs = sf.read('../wavs/enhanced1.wav')\n",
    "\n",
    "ref2, fs = sf.read('../wavs/reference2.wav')\n",
    "enh2, fs = sf.read('../wavs/enhanced2.wav')\n",
    "\n",
    "ipd.display(ipd.Audio(deg, rate=fs))\n",
    "ipd.display(ipd.Audio(ref1, rate=fs))\n",
    "ipd.display(ipd.Audio(enh1, rate=fs))\n",
    "ipd.display(ipd.Audio(ref2, rate=fs))\n",
    "ipd.display(ipd.Audio(enh2, rate=fs))\n",
    "\n",
    "print \"Before Separation\"\n",
    "eval_before = sep_eval.full_eval(deg, ref1)\n",
    "for measure, score in eval_before.items():\n",
    "    print(\"\\t{} = {}\".format(measure, score))\n",
    "    \n",
    "print \"After Separation: FULL\"\n",
    "eval_after = sep_eval.full_eval(enh1, ref1)\n",
    "for measure, score in eval_after.items():\n",
    "    print(\"\\t{} = {}\".format(measure, score))\n",
    "\n",
    "print \"After Separation: BSS\"\n",
    "print sep_eval.bss_eval(np.array([enh1, enh2]), np.array([ref1, ref2]))\n",
    "\n",
    "print \"After Separation: PESQ\"\n",
    "print sep_eval.pesq(enh1, ref1)"
   ]
  },
  {
   "cell_type": "code",
   "execution_count": null,
   "metadata": {},
   "outputs": [],
   "source": [
    "deg = [np.array([enh1, enh2]),\n",
    "               np.array([enh2, enh1])]\n",
    "\n",
    "ref = [np.array([ref1, ref2]),\n",
    "       np.array([ref2, ref1])]\n",
    "\n",
    "_bss = sep_eval.bss_eval(deg, ref)\n",
    "\n",
    "print _bss"
   ]
  },
  {
   "cell_type": "code",
   "execution_count": null,
   "metadata": {},
   "outputs": [],
   "source": []
  }
 ],
 "metadata": {
  "kernelspec": {
   "display_name": "Python 2",
   "language": "python",
   "name": "python2"
  },
  "language_info": {
   "codemirror_mode": {
    "name": "ipython",
    "version": 2
   },
   "file_extension": ".py",
   "mimetype": "text/x-python",
   "name": "python",
   "nbconvert_exporter": "python",
   "pygments_lexer": "ipython2",
   "version": "2.7.14"
  }
 },
 "nbformat": 4,
 "nbformat_minor": 2
}
